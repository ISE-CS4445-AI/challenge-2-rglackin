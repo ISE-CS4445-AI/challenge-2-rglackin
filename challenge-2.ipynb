{
  "cells": [
    {
      "cell_type": "markdown",
      "metadata": {
        "id": "OTTUuzCyzRqG"
      },
      "source": [
        "# Challenge 2 - Data Preprocessing\n",
        "\n",
        "Welcome to challenge 2/7! You will be attempting two parts just like in challenge 1 last week i.e., the MCQ section and the code challenge section.\n",
        "\n",
        "Good luck! :)"
      ]
    },
    {
      "cell_type": "markdown",
      "metadata": {
        "id": "ROAjx16L5x5Y"
      },
      "source": [
        "## Section 1: Multiple Choice Questions"
      ]
    },
    {
      "cell_type": "markdown",
      "metadata": {
        "id": "IRALy2NEz0AS"
      },
      "source": [
        "### Q1. What is the primary goal of data preprocessing in machine learning? (1 point)\n",
        "**Options:**\n",
        "\n",
        "\n",
        "1.   To train the model directly.\n",
        "2.  To clean and prepare raw data for better model performance.\n",
        "3.  To increase the size of the dataset.\n",
        "4.  To avoid splitting the dataset into train and test sets.\n",
        "\n",
        "\n",
        "\n"
      ]
    },
    {
      "cell_type": "code",
      "execution_count": 1,
      "metadata": {
        "colab": {
          "base_uri": "https://localhost:8080/"
        },
        "id": "HFtBxSL40CG9",
        "outputId": "49e0c805-cd5f-4d4b-be20-2cf551c8bc86"
      },
      "outputs": [
        {
          "name": "stdout",
          "output_type": "stream",
          "text": [
            "Q1: What is the primary goal of data preprocessing in machine learning?\n",
            "Answer: To clean and prepare raw data for better model performance\n"
          ]
        }
      ],
      "source": [
        "def answer_q1():\n",
        "    \"\"\"\n",
        "    Q1: What is the primary goal of data preprocessing in machine learning?\n",
        "    \"\"\"\n",
        "\n",
        "    options = {\n",
        "        1: \"To train the model directly\",\n",
        "        2: \"To clean and prepare raw data for better model performance\",\n",
        "        3: \"To increase the size of the dataset\",\n",
        "        4: \"To avoid splitting the dataset into train and test sets\"\n",
        "    }\n",
        "\n",
        "    # TODO: return the correct option number\n",
        "    return options[2]\n",
        "\n",
        "print(f'Q1: What is the primary goal of data preprocessing in machine learning?\\nAnswer: {answer_q1()}')"
      ]
    },
    {
      "cell_type": "markdown",
      "metadata": {
        "id": "m9BRj9Qv0v9o"
      },
      "source": [
        "### Q2. Which of the following techniques is used to handle missing numerical data? (1 point)\n",
        "**Options:**\n",
        "1. One-hot encoding\n",
        "2. Imputing with mean, median, or mode\n",
        "3. Removing categorical columns\n",
        "4. Detecting outliers"
      ]
    },
    {
      "cell_type": "code",
      "execution_count": 2,
      "metadata": {
        "colab": {
          "base_uri": "https://localhost:8080/"
        },
        "id": "uFto7n3ny7UA",
        "outputId": "2025056d-b701-4a72-89b4-7a459c2828b6"
      },
      "outputs": [
        {
          "name": "stdout",
          "output_type": "stream",
          "text": [
            "Q2: Which of the following techniques is used to handle missing numerical data?\n",
            "Answer: Imputing with mean, median, or mode\n"
          ]
        }
      ],
      "source": [
        "def answer_q2():\n",
        "    \"\"\"\n",
        "    Q2: Which of the following techniques is used to handle missing numerical data?\n",
        "    \"\"\"\n",
        "\n",
        "    options = {\n",
        "        1: \"One-hot encoding\",\n",
        "        2: \"Imputing with mean, median, or mode\",\n",
        "        3: \"Removing categorical columns\",\n",
        "        4: \"Detecting outliers\"\n",
        "    }\n",
        "\n",
        "    # TODO: return the correct option number\n",
        "    return options[2]\n",
        "\n",
        "print(f'Q2: Which of the following techniques is used to handle missing numerical data?\\nAnswer: {answer_q2()}')"
      ]
    },
    {
      "cell_type": "markdown",
      "metadata": {
        "id": "QAYgSO7Z2FTd"
      },
      "source": [
        "### Q3. What does one-hot encoding do? (1 point)\n",
        "**Options:**\n",
        "1. Replaces missing numerical values with zeros.\n",
        "2. Converts numerical columns into categorical columns.\n",
        "3. Converts categorical data into binary columns, one for each category.\n",
        "4. Detects and removes outliers from a dataset."
      ]
    },
    {
      "cell_type": "code",
      "execution_count": 3,
      "metadata": {
        "colab": {
          "base_uri": "https://localhost:8080/"
        },
        "id": "c5SAsK9C2Z8R",
        "outputId": "edd20aeb-bf1e-4fcf-fd84-17c8e39a92a6"
      },
      "outputs": [
        {
          "name": "stdout",
          "output_type": "stream",
          "text": [
            "Q3: What does one-hot encoding do?\n",
            "Answer: Converts categorical data into binary columns, one for each category\n"
          ]
        }
      ],
      "source": [
        "def answer_q3():\n",
        "    \"\"\"\n",
        "    Q3: What does one-hot encoding do?\n",
        "    \"\"\"\n",
        "\n",
        "    options = {\n",
        "        1: \"Replaces missing numerical values with zeros\",\n",
        "        2: \"Converts numerical columns into categorical columns\",\n",
        "        3: \"Converts categorical data into binary columns, one for each category\",\n",
        "        4: \"Detects and removes outliers from a dataset\"\n",
        "    }\n",
        "\n",
        "    # TODO: return the correct option number\n",
        "    return options[3]\n",
        "\n",
        "print(f'Q3: What does one-hot encoding do?\\nAnswer: {answer_q3()}')"
      ]
    },
    {
      "cell_type": "markdown",
      "metadata": {
        "id": "shVhsUec2zS4"
      },
      "source": [
        "### Q4.  Which method can be used to detect outliers in a dataset? (1 point)\n",
        "**Options:**\n",
        "1.  Box plot visualization\n",
        "2.  Calculating the correlation matrix\n",
        "3.  Applying one-hot encoding\n",
        "4.  Normalizing the data\n"
      ]
    },
    {
      "cell_type": "code",
      "execution_count": 4,
      "metadata": {
        "colab": {
          "base_uri": "https://localhost:8080/"
        },
        "id": "eS7K8DqW4Hpr",
        "outputId": "56665bdf-af18-4045-b17a-0489035b20cb"
      },
      "outputs": [
        {
          "name": "stdout",
          "output_type": "stream",
          "text": [
            "Q4: Which method can be used to detect outliers in a dataset?\n",
            "Answer: Box plot visualization\n"
          ]
        }
      ],
      "source": [
        "def answer_q4():\n",
        "    \"\"\"\n",
        "    Q4: Which method can be used to detect outliers in a dataset?\n",
        "    \"\"\"\n",
        "\n",
        "    options = {\n",
        "        1: \"Box plot visualization\",\n",
        "        2: \"Calculating the correlation matrix\",\n",
        "        3: \"Applying one-hot encoding\",\n",
        "        4: \"Normalizing the data\"\n",
        "    }\n",
        "\n",
        "    # TODO: return the correct option number\n",
        "    return options[1]\n",
        "\n",
        "print(f'Q4: Which method can be used to detect outliers in a dataset?\\nAnswer: {answer_q4()}')"
      ]
    },
    {
      "cell_type": "markdown",
      "metadata": {
        "id": "UizfbmVn46j1"
      },
      "source": [
        "### Q5. You are working with a dataset containing a timestamp column (purchase_date). Which of the following feature engineering techniques would help capture temporal patterns effectively for predictive modeling? (2 points)\n",
        "**Options:**\n",
        "1. Extracting the day of the week, month, and hour from purchase_date.\n",
        "2. Converting the purchase_date to a UNIX timestamp and normalizing it.\n",
        "3. Creating features like \"days since last purchase\" for each customer.\n",
        "4. All of the above.\n",
        "5. None of the above.\n",
        "\n",
        "For this question alone, justify your answer briefly by replacing the string value of `why` with your explanation in addition to returning the correct option."
      ]
    },
    {
      "cell_type": "code",
      "execution_count": 6,
      "metadata": {
        "colab": {
          "base_uri": "https://localhost:8080/"
        },
        "id": "KAeIC4Us5Lst",
        "outputId": "f98a3b83-386b-419e-f25a-a438df3c986f"
      },
      "outputs": [
        {
          "name": "stdout",
          "output_type": "stream",
          "text": [
            " Q5: You are working with a dataset containing a timestamp column (purchase_date).Which of the following feature engineering techniques would help capture temporal patterns effectively for predictive modeling?\n",
            "Answer: ('Extracting the day of the week, month, and hour from purchase_date', 'Having day of week, month and hour will allow us to see temporal patterns such as busy times of day on certain days of the week, or busy days in certain months. Predictions can then be made using the business of certain times.')\n"
          ]
        }
      ],
      "source": [
        "def answer_q5():\n",
        "    \"\"\"\n",
        "    Q5: You are working with a dataset containing a timestamp column (purchase_date).\n",
        "    Which of the following feature engineering techniques would help capture temporal\n",
        "    patterns effectively for predictive modeling?\n",
        "    \"\"\"\n",
        "\n",
        "    options = {\n",
        "        1: \"Extracting the day of the week, month, and hour from purchase_date\",\n",
        "        2: \"Converting the purchase_date to a UNIX timestamp and normalizing it\",\n",
        "        3: \"Creating features like 'days since last purchase' for each customer\",\n",
        "        4: \"All of the above\",\n",
        "        5: \"None of the above\"\n",
        "    }\n",
        "\n",
        "    # TODO: return the correct option number\n",
        "    # Include your justification below in a line or two\n",
        "    why = \"Having day of week, month and hour will allow us to see temporal patterns such as busy times of day on certain days of the week, or busy days in certain months. Predictions can then be made using the business of certain times.\"\n",
        "    return options[1], why\n",
        "\n",
        "print(f' Q5: You are working with a dataset containing a timestamp column (purchase_date).Which of the following feature engineering techniques would help capture temporal patterns effectively for predictive modeling?\\nAnswer: {answer_q5()}')"
      ]
    },
    {
      "cell_type": "markdown",
      "metadata": {
        "id": "d2tw01le53fJ"
      },
      "source": [
        "---\n",
        "\n",
        "## Section 2: Code challenge (4 points)\n",
        "\n",
        "To pass this section of the weekly challenge, uncomment/fill in code where necessary (marked with a 'TODO:' comment).\n",
        "\n",
        "### 1. House keeping and imports"
      ]
    },
    {
      "cell_type": "code",
      "execution_count": 7,
      "metadata": {
        "id": "Cm3MG7iySn15"
      },
      "outputs": [],
      "source": [
        "import numpy as np\n",
        "import pandas as pd\n",
        "import matplotlib.pyplot as plt\n",
        "\n",
        "from sklearn.linear_model import LogisticRegression\n",
        "from sklearn.model_selection import train_test_split\n",
        "from sklearn.metrics import accuracy_score"
      ]
    },
    {
      "cell_type": "markdown",
      "metadata": {
        "id": "hry_mfD2St36"
      },
      "source": [
        "### 2. Load Dataset"
      ]
    },
    {
      "cell_type": "code",
      "execution_count": 8,
      "metadata": {
        "id": "t6L9tk63SxuZ"
      },
      "outputs": [],
      "source": [
        "def load_data(file_path):\n",
        "    # TODO: Load the dataset\n",
        "    data = pd.read_csv(file_path)\n",
        "\n",
        "    return data"
      ]
    },
    {
      "cell_type": "code",
      "execution_count": 9,
      "metadata": {
        "colab": {
          "base_uri": "https://localhost:8080/",
          "height": 460
        },
        "id": "f1hXAB3jUgKx",
        "outputId": "741033c1-54fa-4302-e476-e7ca0ec1ecc4"
      },
      "outputs": [],
      "source": [
        "data = load_data(\"titanic.csv\")"
      ]
    },
    {
      "cell_type": "markdown",
      "metadata": {},
      "source": [
        "### 3. Explore dataset\n"
      ]
    },
    {
      "cell_type": "code",
      "execution_count": 10,
      "metadata": {},
      "outputs": [
        {
          "data": {
            "text/html": [
              "<div>\n",
              "<style scoped>\n",
              "    .dataframe tbody tr th:only-of-type {\n",
              "        vertical-align: middle;\n",
              "    }\n",
              "\n",
              "    .dataframe tbody tr th {\n",
              "        vertical-align: top;\n",
              "    }\n",
              "\n",
              "    .dataframe thead th {\n",
              "        text-align: right;\n",
              "    }\n",
              "</style>\n",
              "<table border=\"1\" class=\"dataframe\">\n",
              "  <thead>\n",
              "    <tr style=\"text-align: right;\">\n",
              "      <th></th>\n",
              "      <th>PassengerId</th>\n",
              "      <th>Survived</th>\n",
              "      <th>Pclass</th>\n",
              "      <th>Name</th>\n",
              "      <th>Sex</th>\n",
              "      <th>Age</th>\n",
              "      <th>SibSp</th>\n",
              "      <th>Parch</th>\n",
              "      <th>Ticket</th>\n",
              "      <th>Fare</th>\n",
              "      <th>Cabin</th>\n",
              "      <th>Embarked</th>\n",
              "    </tr>\n",
              "  </thead>\n",
              "  <tbody>\n",
              "    <tr>\n",
              "      <th>0</th>\n",
              "      <td>1</td>\n",
              "      <td>0</td>\n",
              "      <td>3</td>\n",
              "      <td>Braund, Mr. Owen Harris</td>\n",
              "      <td>male</td>\n",
              "      <td>22.0</td>\n",
              "      <td>1</td>\n",
              "      <td>0</td>\n",
              "      <td>A/5 21171</td>\n",
              "      <td>7.2500</td>\n",
              "      <td>NaN</td>\n",
              "      <td>S</td>\n",
              "    </tr>\n",
              "    <tr>\n",
              "      <th>1</th>\n",
              "      <td>2</td>\n",
              "      <td>1</td>\n",
              "      <td>1</td>\n",
              "      <td>Cumings, Mrs. John Bradley (Florence Briggs Th...</td>\n",
              "      <td>female</td>\n",
              "      <td>38.0</td>\n",
              "      <td>1</td>\n",
              "      <td>0</td>\n",
              "      <td>PC 17599</td>\n",
              "      <td>71.2833</td>\n",
              "      <td>C85</td>\n",
              "      <td>C</td>\n",
              "    </tr>\n",
              "    <tr>\n",
              "      <th>2</th>\n",
              "      <td>3</td>\n",
              "      <td>1</td>\n",
              "      <td>3</td>\n",
              "      <td>Heikkinen, Miss. Laina</td>\n",
              "      <td>female</td>\n",
              "      <td>26.0</td>\n",
              "      <td>0</td>\n",
              "      <td>0</td>\n",
              "      <td>STON/O2. 3101282</td>\n",
              "      <td>7.9250</td>\n",
              "      <td>NaN</td>\n",
              "      <td>S</td>\n",
              "    </tr>\n",
              "    <tr>\n",
              "      <th>3</th>\n",
              "      <td>4</td>\n",
              "      <td>1</td>\n",
              "      <td>1</td>\n",
              "      <td>Futrelle, Mrs. Jacques Heath (Lily May Peel)</td>\n",
              "      <td>female</td>\n",
              "      <td>35.0</td>\n",
              "      <td>1</td>\n",
              "      <td>0</td>\n",
              "      <td>113803</td>\n",
              "      <td>53.1000</td>\n",
              "      <td>C123</td>\n",
              "      <td>S</td>\n",
              "    </tr>\n",
              "    <tr>\n",
              "      <th>4</th>\n",
              "      <td>5</td>\n",
              "      <td>0</td>\n",
              "      <td>3</td>\n",
              "      <td>Allen, Mr. William Henry</td>\n",
              "      <td>male</td>\n",
              "      <td>35.0</td>\n",
              "      <td>0</td>\n",
              "      <td>0</td>\n",
              "      <td>373450</td>\n",
              "      <td>8.0500</td>\n",
              "      <td>NaN</td>\n",
              "      <td>S</td>\n",
              "    </tr>\n",
              "  </tbody>\n",
              "</table>\n",
              "</div>"
            ],
            "text/plain": [
              "   PassengerId  Survived  Pclass  \\\n",
              "0            1         0       3   \n",
              "1            2         1       1   \n",
              "2            3         1       3   \n",
              "3            4         1       1   \n",
              "4            5         0       3   \n",
              "\n",
              "                                                Name     Sex   Age  SibSp  \\\n",
              "0                            Braund, Mr. Owen Harris    male  22.0      1   \n",
              "1  Cumings, Mrs. John Bradley (Florence Briggs Th...  female  38.0      1   \n",
              "2                             Heikkinen, Miss. Laina  female  26.0      0   \n",
              "3       Futrelle, Mrs. Jacques Heath (Lily May Peel)  female  35.0      1   \n",
              "4                           Allen, Mr. William Henry    male  35.0      0   \n",
              "\n",
              "   Parch            Ticket     Fare Cabin Embarked  \n",
              "0      0         A/5 21171   7.2500   NaN        S  \n",
              "1      0          PC 17599  71.2833   C85        C  \n",
              "2      0  STON/O2. 3101282   7.9250   NaN        S  \n",
              "3      0            113803  53.1000  C123        S  \n",
              "4      0            373450   8.0500   NaN        S  "
            ]
          },
          "execution_count": 10,
          "metadata": {},
          "output_type": "execute_result"
        }
      ],
      "source": [
        "# TODO Display the first few rows of the dataset\n",
        "data.head()"
      ]
    },
    {
      "cell_type": "code",
      "execution_count": 13,
      "metadata": {
        "colab": {
          "base_uri": "https://localhost:8080/",
          "height": 504
        },
        "id": "LIx_rzFPcVf7",
        "outputId": "49126114-f294-41c4-cf2f-35a1686dcad3"
      },
      "outputs": [
        {
          "name": "stdout",
          "output_type": "stream",
          "text": [
            "<class 'pandas.core.frame.DataFrame'>\n",
            "RangeIndex: 891 entries, 0 to 890\n",
            "Data columns (total 12 columns):\n",
            " #   Column       Non-Null Count  Dtype  \n",
            "---  ------       --------------  -----  \n",
            " 0   PassengerId  891 non-null    int64  \n",
            " 1   Survived     891 non-null    int64  \n",
            " 2   Pclass       891 non-null    int64  \n",
            " 3   Name         891 non-null    object \n",
            " 4   Sex          891 non-null    object \n",
            " 5   Age          714 non-null    float64\n",
            " 6   SibSp        891 non-null    int64  \n",
            " 7   Parch        891 non-null    int64  \n",
            " 8   Ticket       891 non-null    object \n",
            " 9   Fare         891 non-null    float64\n",
            " 10  Cabin        204 non-null    object \n",
            " 11  Embarked     889 non-null    object \n",
            "dtypes: float64(2), int64(5), object(5)\n",
            "memory usage: 83.7+ KB\n"
          ]
        }
      ],
      "source": [
        "# TODO: Display the dataset's information\n",
        "data.info()"
      ]
    },
    {
      "cell_type": "markdown",
      "metadata": {},
      "source": [
        "Fill in the code below to return a dataframe that has the total number of missing (null) values per column."
      ]
    },
    {
      "cell_type": "code",
      "execution_count": 26,
      "metadata": {},
      "outputs": [
        {
          "data": {
            "text/plain": [
              "0      S\n",
              "1      C\n",
              "2      S\n",
              "3      S\n",
              "4      S\n",
              "      ..\n",
              "886    S\n",
              "887    S\n",
              "888    S\n",
              "889    C\n",
              "890    Q\n",
              "Name: Embarked, Length: 891, dtype: object"
            ]
          },
          "execution_count": 26,
          "metadata": {},
          "output_type": "execute_result"
        }
      ],
      "source": [
        "data['Embarked']"
      ]
    },
    {
      "cell_type": "code",
      "execution_count": 16,
      "metadata": {},
      "outputs": [],
      "source": [
        "def number_missing_values(data):\n",
        "    # TODO: Return the number of missing values in each column\n",
        "    return data.isnull().sum().sum()"
      ]
    },
    {
      "cell_type": "code",
      "execution_count": 17,
      "metadata": {},
      "outputs": [
        {
          "data": {
            "text/plain": [
              "np.int64(866)"
            ]
          },
          "execution_count": 17,
          "metadata": {},
          "output_type": "execute_result"
        }
      ],
      "source": [
        "number_missing_values(data)"
      ]
    },
    {
      "cell_type": "markdown",
      "metadata": {
        "id": "ww-oRhCNS0_6"
      },
      "source": [
        "### 4. Handle Missing Data"
      ]
    },
    {
      "cell_type": "code",
      "execution_count": 36,
      "metadata": {},
      "outputs": [
        {
          "name": "stdout",
          "output_type": "stream",
          "text": [
            "After preprocess_final():\n",
            "Columns: Index(['Survived', 'Pclass', 'Sex', 'Age', 'SibSp', 'Parch', 'Fare',\n",
            "       'Embarked_C', 'Embarked_Q', 'Embarked_S', 'FamilySize'],\n",
            "      dtype='object')\n",
            "Missing Values: 0\n"
          ]
        },
        {
          "data": {
            "text/html": [
              "<div>\n",
              "<style scoped>\n",
              "    .dataframe tbody tr th:only-of-type {\n",
              "        vertical-align: middle;\n",
              "    }\n",
              "\n",
              "    .dataframe tbody tr th {\n",
              "        vertical-align: top;\n",
              "    }\n",
              "\n",
              "    .dataframe thead th {\n",
              "        text-align: right;\n",
              "    }\n",
              "</style>\n",
              "<table border=\"1\" class=\"dataframe\">\n",
              "  <thead>\n",
              "    <tr style=\"text-align: right;\">\n",
              "      <th></th>\n",
              "      <th>Survived</th>\n",
              "      <th>Pclass</th>\n",
              "      <th>Sex</th>\n",
              "      <th>Age</th>\n",
              "      <th>SibSp</th>\n",
              "      <th>Parch</th>\n",
              "      <th>Fare</th>\n",
              "      <th>Embarked_C</th>\n",
              "      <th>Embarked_Q</th>\n",
              "      <th>Embarked_S</th>\n",
              "      <th>FamilySize</th>\n",
              "    </tr>\n",
              "  </thead>\n",
              "  <tbody>\n",
              "    <tr>\n",
              "      <th>0</th>\n",
              "      <td>0</td>\n",
              "      <td>3</td>\n",
              "      <td>True</td>\n",
              "      <td>22.0</td>\n",
              "      <td>1</td>\n",
              "      <td>0</td>\n",
              "      <td>7.2500</td>\n",
              "      <td>False</td>\n",
              "      <td>False</td>\n",
              "      <td>True</td>\n",
              "      <td>2</td>\n",
              "    </tr>\n",
              "    <tr>\n",
              "      <th>1</th>\n",
              "      <td>1</td>\n",
              "      <td>1</td>\n",
              "      <td>False</td>\n",
              "      <td>38.0</td>\n",
              "      <td>1</td>\n",
              "      <td>0</td>\n",
              "      <td>71.2833</td>\n",
              "      <td>True</td>\n",
              "      <td>False</td>\n",
              "      <td>False</td>\n",
              "      <td>2</td>\n",
              "    </tr>\n",
              "    <tr>\n",
              "      <th>2</th>\n",
              "      <td>1</td>\n",
              "      <td>3</td>\n",
              "      <td>False</td>\n",
              "      <td>26.0</td>\n",
              "      <td>0</td>\n",
              "      <td>0</td>\n",
              "      <td>7.9250</td>\n",
              "      <td>False</td>\n",
              "      <td>False</td>\n",
              "      <td>True</td>\n",
              "      <td>1</td>\n",
              "    </tr>\n",
              "    <tr>\n",
              "      <th>3</th>\n",
              "      <td>1</td>\n",
              "      <td>1</td>\n",
              "      <td>False</td>\n",
              "      <td>35.0</td>\n",
              "      <td>1</td>\n",
              "      <td>0</td>\n",
              "      <td>53.1000</td>\n",
              "      <td>False</td>\n",
              "      <td>False</td>\n",
              "      <td>True</td>\n",
              "      <td>2</td>\n",
              "    </tr>\n",
              "    <tr>\n",
              "      <th>4</th>\n",
              "      <td>0</td>\n",
              "      <td>3</td>\n",
              "      <td>True</td>\n",
              "      <td>35.0</td>\n",
              "      <td>0</td>\n",
              "      <td>0</td>\n",
              "      <td>8.0500</td>\n",
              "      <td>False</td>\n",
              "      <td>False</td>\n",
              "      <td>True</td>\n",
              "      <td>1</td>\n",
              "    </tr>\n",
              "  </tbody>\n",
              "</table>\n",
              "</div>"
            ],
            "text/plain": [
              "   Survived  Pclass    Sex   Age  SibSp  Parch     Fare  Embarked_C  \\\n",
              "0         0       3   True  22.0      1      0   7.2500       False   \n",
              "1         1       1  False  38.0      1      0  71.2833        True   \n",
              "2         1       3  False  26.0      0      0   7.9250       False   \n",
              "3         1       1  False  35.0      1      0  53.1000       False   \n",
              "4         0       3   True  35.0      0      0   8.0500       False   \n",
              "\n",
              "   Embarked_Q  Embarked_S  FamilySize  \n",
              "0       False        True           2  \n",
              "1       False       False           2  \n",
              "2       False        True           1  \n",
              "3       False        True           2  \n",
              "4       False        True           1  "
            ]
          },
          "execution_count": 36,
          "metadata": {},
          "output_type": "execute_result"
        }
      ],
      "source": [
        "def preprocess_final(df):\n",
        "    \"\"\"\n",
        "    1) fix missing data (Age, Embarked, etc.)\n",
        "    2) drop unneeded columns (Cabin, Ticket, Name, PassengerId)\n",
        "    3) encode 'Sex', 'Embarked'\n",
        "    4) create at least 1 new feature\n",
        "    5) ensure no NaN in final numeric columns\n",
        "    \n",
        "    returns df_processed with no missing values in essential columns\n",
        "    \"\"\"\n",
        "    df_processed = df.copy()\n",
        "    \n",
        "    # TODO: handle missing Age (fill with median?), handle missing Embarked, etc.\n",
        "    median_age = df['Age'].median()\n",
        "    df_processed['Age'] = df_processed['Age'].fillna(median_age)\n",
        "    \n",
        "    # TODO: drop columns\n",
        "    drop_cols = ['Cabin', 'Ticket', 'PassengerId', 'Name']\n",
        "    df_processed = df_processed.drop(columns=drop_cols)\n",
        "    \n",
        "    # TODO: binary encode 'Sex'\n",
        "    df_encoding = pd.get_dummies(df_processed, columns=['Sex'])\n",
        "    df_processed['Sex'] = df_encoding['Sex_male']\n",
        "    # fill the 2 empty values with the most common value 'S'\n",
        "    df_processed['Embarked'] = df_processed['Embarked'].fillna('S')\n",
        "    # TODO: one-hot encode 'Embarked'\n",
        "    df_processed = pd.get_dummies(df_processed, columns=['Embarked'])\n",
        "    \n",
        "    # TODO: create at least 1 new feature\n",
        "    # e.g. FamilySize = SibSp + Parch + 1\n",
        "    df_processed['FamilySize'] = df_processed['SibSp'] + df_processed['Parch'] + 1\n",
        "    \n",
        "    # final step: drop or fill any remaining missing\n",
        "    df_processed.dropna(inplace=True)\n",
        "    \n",
        "    return df_processed\n",
        "\n",
        "\n",
        "# try with train data\n",
        "df_train = load_data('titanic.csv')\n",
        "df_processed = preprocess_final(df_train)\n",
        "print(\"After preprocess_final():\")\n",
        "print(\"Columns:\", df_processed.columns)\n",
        "print(\"Missing Values:\", df_processed.isnull().sum().sum())\n",
        "df_processed.head()"
      ]
    },
    {
      "cell_type": "code",
      "execution_count": 37,
      "metadata": {},
      "outputs": [
        {
          "data": {
            "text/html": [
              "<div>\n",
              "<style scoped>\n",
              "    .dataframe tbody tr th:only-of-type {\n",
              "        vertical-align: middle;\n",
              "    }\n",
              "\n",
              "    .dataframe tbody tr th {\n",
              "        vertical-align: top;\n",
              "    }\n",
              "\n",
              "    .dataframe thead th {\n",
              "        text-align: right;\n",
              "    }\n",
              "</style>\n",
              "<table border=\"1\" class=\"dataframe\">\n",
              "  <thead>\n",
              "    <tr style=\"text-align: right;\">\n",
              "      <th></th>\n",
              "      <th>Survived</th>\n",
              "      <th>Pclass</th>\n",
              "      <th>Age</th>\n",
              "      <th>SibSp</th>\n",
              "      <th>Parch</th>\n",
              "      <th>Fare</th>\n",
              "      <th>FamilySize</th>\n",
              "    </tr>\n",
              "  </thead>\n",
              "  <tbody>\n",
              "    <tr>\n",
              "      <th>count</th>\n",
              "      <td>891.000000</td>\n",
              "      <td>891.000000</td>\n",
              "      <td>891.000000</td>\n",
              "      <td>891.000000</td>\n",
              "      <td>891.000000</td>\n",
              "      <td>891.000000</td>\n",
              "      <td>891.000000</td>\n",
              "    </tr>\n",
              "    <tr>\n",
              "      <th>mean</th>\n",
              "      <td>0.383838</td>\n",
              "      <td>2.308642</td>\n",
              "      <td>29.361582</td>\n",
              "      <td>0.523008</td>\n",
              "      <td>0.381594</td>\n",
              "      <td>32.204208</td>\n",
              "      <td>1.904602</td>\n",
              "    </tr>\n",
              "    <tr>\n",
              "      <th>std</th>\n",
              "      <td>0.486592</td>\n",
              "      <td>0.836071</td>\n",
              "      <td>13.019697</td>\n",
              "      <td>1.102743</td>\n",
              "      <td>0.806057</td>\n",
              "      <td>49.693429</td>\n",
              "      <td>1.613459</td>\n",
              "    </tr>\n",
              "    <tr>\n",
              "      <th>min</th>\n",
              "      <td>0.000000</td>\n",
              "      <td>1.000000</td>\n",
              "      <td>0.420000</td>\n",
              "      <td>0.000000</td>\n",
              "      <td>0.000000</td>\n",
              "      <td>0.000000</td>\n",
              "      <td>1.000000</td>\n",
              "    </tr>\n",
              "    <tr>\n",
              "      <th>25%</th>\n",
              "      <td>0.000000</td>\n",
              "      <td>2.000000</td>\n",
              "      <td>22.000000</td>\n",
              "      <td>0.000000</td>\n",
              "      <td>0.000000</td>\n",
              "      <td>7.910400</td>\n",
              "      <td>1.000000</td>\n",
              "    </tr>\n",
              "    <tr>\n",
              "      <th>50%</th>\n",
              "      <td>0.000000</td>\n",
              "      <td>3.000000</td>\n",
              "      <td>28.000000</td>\n",
              "      <td>0.000000</td>\n",
              "      <td>0.000000</td>\n",
              "      <td>14.454200</td>\n",
              "      <td>1.000000</td>\n",
              "    </tr>\n",
              "    <tr>\n",
              "      <th>75%</th>\n",
              "      <td>1.000000</td>\n",
              "      <td>3.000000</td>\n",
              "      <td>35.000000</td>\n",
              "      <td>1.000000</td>\n",
              "      <td>0.000000</td>\n",
              "      <td>31.000000</td>\n",
              "      <td>2.000000</td>\n",
              "    </tr>\n",
              "    <tr>\n",
              "      <th>max</th>\n",
              "      <td>1.000000</td>\n",
              "      <td>3.000000</td>\n",
              "      <td>80.000000</td>\n",
              "      <td>8.000000</td>\n",
              "      <td>6.000000</td>\n",
              "      <td>512.329200</td>\n",
              "      <td>11.000000</td>\n",
              "    </tr>\n",
              "  </tbody>\n",
              "</table>\n",
              "</div>"
            ],
            "text/plain": [
              "         Survived      Pclass         Age       SibSp       Parch        Fare  \\\n",
              "count  891.000000  891.000000  891.000000  891.000000  891.000000  891.000000   \n",
              "mean     0.383838    2.308642   29.361582    0.523008    0.381594   32.204208   \n",
              "std      0.486592    0.836071   13.019697    1.102743    0.806057   49.693429   \n",
              "min      0.000000    1.000000    0.420000    0.000000    0.000000    0.000000   \n",
              "25%      0.000000    2.000000   22.000000    0.000000    0.000000    7.910400   \n",
              "50%      0.000000    3.000000   28.000000    0.000000    0.000000   14.454200   \n",
              "75%      1.000000    3.000000   35.000000    1.000000    0.000000   31.000000   \n",
              "max      1.000000    3.000000   80.000000    8.000000    6.000000  512.329200   \n",
              "\n",
              "       FamilySize  \n",
              "count  891.000000  \n",
              "mean     1.904602  \n",
              "std      1.613459  \n",
              "min      1.000000  \n",
              "25%      1.000000  \n",
              "50%      1.000000  \n",
              "75%      2.000000  \n",
              "max     11.000000  "
            ]
          },
          "execution_count": 37,
          "metadata": {},
          "output_type": "execute_result"
        }
      ],
      "source": [
        "# Display the dataset's common statistical information after preprocessing\n",
        "df_processed.describe()"
      ]
    },
    {
      "cell_type": "markdown",
      "metadata": {
        "id": "FaVV4aDxYEUH"
      },
      "source": [
        "### 5. Looking at outliers\n",
        "It is often useful to look at data for outliers. The following function plots histograms for all the numerical data in a dataframe. This will give an idea of the general distribution of data."
      ]
    },
    {
      "cell_type": "code",
      "execution_count": 38,
      "metadata": {
        "id": "0Ks_Nl1DZKtQ"
      },
      "outputs": [],
      "source": [
        "def plot_histograms(df, bins=20):\n",
        "    \"\"\"\n",
        "    Plots histograms for all columns in a DataFrame.\n",
        "\n",
        "    Args:\n",
        "        df (pd.DataFrame): The input DataFrame.\n",
        "        bins (int, optional): Number of bins for the histograms. Defaults to 20.\n",
        "    \"\"\"\n",
        "    # Get numeric columns for histogram plotting\n",
        "    numeric_columns = df.select_dtypes(include=['number']).columns\n",
        "\n",
        "    # Create subplots\n",
        "    fig, axes = plt.subplots(3, 3, figsize=(15, 12))\n",
        "    axes = axes.flatten()  # Flatten to iterate easily\n",
        "\n",
        "    # Iterate and plot histograms for each numeric column\n",
        "    for i, col in enumerate(numeric_columns):\n",
        "        axes[i].hist(df[col], bins=bins) # The bins argument should be an integer for number of bins, not column\n",
        "        axes[i].set_title(f'Histogram of {col}')\n",
        "        axes[i].set_xlabel(col)\n",
        "        axes[i].set_ylabel('Frequency')\n",
        "\n",
        "    # Hide any unused subplots\n",
        "    for j in range(i + 1, len(axes)):\n",
        "        axes[j].axis('off')\n",
        "\n",
        "    plt.tight_layout()\n",
        "    plt.show()"
      ]
    },
    {
      "cell_type": "markdown",
      "metadata": {},
      "source": [
        "Plot the histograms for the numerical features of the processed dataset."
      ]
    },
    {
      "cell_type": "code",
      "execution_count": 39,
      "metadata": {
        "colab": {
          "base_uri": "https://localhost:8080/",
          "height": 647
        },
        "id": "Y28prbvuZ3WC",
        "outputId": "cc70225e-c8ea-450c-8db0-c2cf12982e8c"
      },
      "outputs": [
        {
          "data": {
            "image/png": "[encoded data removed]",
            "text/plain": [
              "<Figure size 1500x1200 with 9 Axes>"
            ]
          },
          "metadata": {},
          "output_type": "display_data"
        }
      ],
      "source": [
        "plot_histograms(df_processed, bins=20)"
      ]
    },
    {
      "cell_type": "markdown",
      "metadata": {},
      "source": [
        "A boxplot gives the general distribution of data in terms of quartile ranges and shows us outliers very clearly. Running the code cell below will show the box plot for the `Age` column grouped by the target column of `Survived`.  \n",
        "This shows us the median age of those who survived and didn't as well as certain data points that seem to be against the norm."
      ]
    },
    {
      "cell_type": "code",
      "execution_count": 40,
      "metadata": {},
      "outputs": [
        {
          "data": {
            "text/plain": [
              "<Axes: title={'center': 'Age'}, xlabel='Survived'>"
            ]
          },
          "execution_count": 40,
          "metadata": {},
          "output_type": "execute_result"
        },
        {
          "data": {
            "image/png": "[encoded data removed]",
            "text/plain": [
              "<Figure size 640x480 with 1 Axes>"
            ]
          },
          "metadata": {},
          "output_type": "display_data"
        }
      ],
      "source": [
        "df_processed.boxplot(column='Age', by='Survived', grid=True)"
      ]
    },
    {
      "cell_type": "code",
      "execution_count": null,
      "metadata": {},
      "outputs": [],
      "source": []
    },
    {
      "cell_type": "markdown",
      "metadata": {},
      "source": [
        "### TODO: SHould the age outliers should be capped or removed from the dataset. Briefly justify."
      ]
    },
    {
      "cell_type": "markdown",
      "metadata": {},
      "source": [
        "The outliers should be removed as there is a significant number of outliers which will skew the average, as both averages are similar with the outliers remaining, so a more accurate prediction can be made without them. "
      ]
    },
    {
      "cell_type": "markdown",
      "metadata": {
        "id": "kyJw8z1wTbBd"
      },
      "source": [
        "### 6. Training and testing (not graded)\n",
        "Now that we have our clean and pre-processed data, feel free to run a classifier of choice and see the accuracy you get. "
      ]
    },
    {
      "cell_type": "code",
      "execution_count": 43,
      "metadata": {
        "id": "HdQ3FZ4dThWY"
      },
      "outputs": [],
      "source": [
        "def train_test(df):\n",
        "    \"\"\"\n",
        "    Trains a classifier model on the input DataFrame.\n",
        "    Returns:\n",
        "        float: Accuracy of the trained model.\n",
        "    \"\"\"\n",
        "    # Optional: \n",
        "    # train and test a classifier model on the pre-processed data\n",
        "    X, y = df.drop('Survived', axis=1).values, df['Survived'].values\n",
        "    X_train, X_test, y_train , y_test = train_test_split(X, y, test_size=0.2)\n",
        "    model = LogisticRegression()\n",
        "    model.fit(X_train, y_train)\n",
        "    #y_predict = model.predict(X_test)\n",
        "    return model.score(X_test, y_test)\n",
        "    # return accuracy\n",
        "    pass"
      ]
    },
    {
      "cell_type": "code",
      "execution_count": 44,
      "metadata": {
        "colab": {
          "base_uri": "https://localhost:8080/",
          "height": 1000
        },
        "id": "VnXRdEERRxTD",
        "outputId": "8b7b4974-9038-4f61-a191-4a7bddecdfb1"
      },
      "outputs": [
        {
          "name": "stdout",
          "output_type": "stream",
          "text": [
            "Model Accuracy: 75.98%\n"
          ]
        },
        {
          "name": "stderr",
          "output_type": "stream",
          "text": [
            "/home/codespace/.local/lib/python3.12/site-packages/sklearn/linear_model/_logistic.py:465: ConvergenceWarning: lbfgs failed to converge (status=1):\n",
            "STOP: TOTAL NO. of ITERATIONS REACHED LIMIT.\n",
            "\n",
            "Increase the number of iterations (max_iter) or scale the data as shown in:\n",
            "    https://scikit-learn.org/stable/modules/preprocessing.html\n",
            "Please also refer to the documentation for alternative solver options:\n",
            "    https://scikit-learn.org/stable/modules/linear_model.html#logistic-regression\n",
            "  n_iter_i = _check_optimize_result(\n"
          ]
        }
      ],
      "source": [
        "\n",
        "accuracy = train_test(df_processed)\n",
        "print(f\"Model Accuracy: {100 * accuracy:.2f}%\")\n",
        "\n"
      ]
    }
  ],
  "metadata": {
    "colab": {
      "provenance": []
    },
    "kernelspec": {
      "display_name": "Python 3",
      "name": "python3"
    },
    "language_info": {
      "codemirror_mode": {
        "name": "ipython",
        "version": 3
      },
      "file_extension": ".py",
      "mimetype": "text/x-python",
      "name": "python",
      "nbconvert_exporter": "python",
      "pygments_lexer": "ipython3",
      "version": "3.12.1"
    }
  },
  "nbformat": 4,
  "nbformat_minor": 0
}
